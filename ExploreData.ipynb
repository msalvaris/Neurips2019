{
 "cells": [
  {
   "cell_type": "markdown",
   "metadata": {},
   "source": [
    "# NeurIPS 2019 paper viewer\n",
    "Loads the proceedings from NeurIPS 2019 conference and makes it easy to search with keywords, list selected items and download the papers and supplementary material"
   ]
  },
  {
   "cell_type": "code",
   "execution_count": 1,
   "metadata": {},
   "outputs": [
    {
     "data": {
      "text/html": [
       "<style>.container { width:100% !important; }</style>"
      ],
      "text/plain": [
       "<IPython.core.display.HTML object>"
      ]
     },
     "metadata": {},
     "output_type": "display_data"
    }
   ],
   "source": [
    "from IPython.core.display import display, HTML\n",
    "display(HTML(\"<style>.container { width:100% !important; }</style>\"))"
   ]
  },
  {
   "cell_type": "code",
   "execution_count": 2,
   "metadata": {},
   "outputs": [],
   "source": [
    "import pandas as pd\n",
    "import ipywidgets as widgets\n",
    "from pprint import pprint\n",
    "from ipyaggrid import Grid\n",
    "from IPython.display import display, HTML \n",
    "import urllib.request\n",
    "import shutil\n",
    "import os"
   ]
  },
  {
   "cell_type": "code",
   "execution_count": 3,
   "metadata": {},
   "outputs": [],
   "source": [
    "data_file = \"neurips2019.csv\"\n",
    "download_path = \"neurips_papers\""
   ]
  },
  {
   "cell_type": "code",
   "execution_count": 4,
   "metadata": {},
   "outputs": [],
   "source": [
    "df = pd.read_csv(data_file, index_col=0)"
   ]
  },
  {
   "cell_type": "code",
   "execution_count": 5,
   "metadata": {},
   "outputs": [
    {
     "data": {
      "text/html": [
       "<div>\n",
       "<style scoped>\n",
       "    .dataframe tbody tr th:only-of-type {\n",
       "        vertical-align: middle;\n",
       "    }\n",
       "\n",
       "    .dataframe tbody tr th {\n",
       "        vertical-align: top;\n",
       "    }\n",
       "\n",
       "    .dataframe thead th {\n",
       "        text-align: right;\n",
       "    }\n",
       "</style>\n",
       "<table border=\"1\" class=\"dataframe\">\n",
       "  <thead>\n",
       "    <tr style=\"text-align: right;\">\n",
       "      <th></th>\n",
       "      <th>title</th>\n",
       "      <th>authors</th>\n",
       "      <th>doc_link</th>\n",
       "      <th>abstract</th>\n",
       "      <th>pdf_link</th>\n",
       "      <th>supplemental_link</th>\n",
       "      <th>event_type</th>\n",
       "    </tr>\n",
       "  </thead>\n",
       "  <tbody>\n",
       "    <tr>\n",
       "      <th>0</th>\n",
       "      <td>Multimodal Model-Agnostic Meta-Learning via Ta...</td>\n",
       "      <td>Risto Vuorio,Shao-Hua Sun,Hexiang Hu,Joseph J....</td>\n",
       "      <td>https://papers.nips.cc/paper/8296-multimodal-m...</td>\n",
       "      <td>Model-agnostic meta-learners aim to acquire me...</td>\n",
       "      <td>https://papers.nips.cc/paper/8296-multimodal-m...</td>\n",
       "      <td>https://papers.nips.cc/paper/8296-multimodal-m...</td>\n",
       "      <td>poster</td>\n",
       "    </tr>\n",
       "    <tr>\n",
       "      <th>1</th>\n",
       "      <td>ViLBERT: Pretraining Task-Agnostic Visiolingui...</td>\n",
       "      <td>Jiasen Lu,Dhruv Batra,Devi Parikh,Stefan Lee</td>\n",
       "      <td>https://papers.nips.cc/paper/8297-vilbert-pret...</td>\n",
       "      <td>We present ViLBERT (short for Vision-and-Langu...</td>\n",
       "      <td>https://papers.nips.cc/paper/8297-vilbert-pret...</td>\n",
       "      <td>https://papers.nips.cc/paper/8297-vilbert-pret...</td>\n",
       "      <td>poster</td>\n",
       "    </tr>\n",
       "    <tr>\n",
       "      <th>2</th>\n",
       "      <td>Stochastic Shared Embeddings: Data-driven Regu...</td>\n",
       "      <td>Liwei Wu,Shuqing Li,Cho-Jui Hsieh,James L. Sha...</td>\n",
       "      <td>https://papers.nips.cc/paper/8298-stochastic-s...</td>\n",
       "      <td>In deep neural nets, lower level embedding lay...</td>\n",
       "      <td>https://papers.nips.cc/paper/8298-stochastic-s...</td>\n",
       "      <td>https://papers.nips.cc/paper/8298-stochastic-s...</td>\n",
       "      <td>poster</td>\n",
       "    </tr>\n",
       "    <tr>\n",
       "      <th>3</th>\n",
       "      <td>Unsupervised Scale-consistent Depth and Ego-mo...</td>\n",
       "      <td>Jiawang Bian,Zhichao Li,Naiyan Wang,Huangying ...</td>\n",
       "      <td>https://papers.nips.cc/paper/8299-unsupervised...</td>\n",
       "      <td>Recent work has shown that CNN-based depth and...</td>\n",
       "      <td>https://papers.nips.cc/paper/8299-unsupervised...</td>\n",
       "      <td>https://papers.nips.cc/paper/8299-unsupervised...</td>\n",
       "      <td>poster</td>\n",
       "    </tr>\n",
       "    <tr>\n",
       "      <th>4</th>\n",
       "      <td>Zero-shot Learning via Simultaneous Generating...</td>\n",
       "      <td>Hyeonwoo Yu,Beomhee Lee</td>\n",
       "      <td>https://papers.nips.cc/paper/8300-zero-shot-le...</td>\n",
       "      <td>To overcome the absence of training data for u...</td>\n",
       "      <td>https://papers.nips.cc/paper/8300-zero-shot-le...</td>\n",
       "      <td>https://papers.nips.cc/paper/8300-zero-shot-le...</td>\n",
       "      <td>poster</td>\n",
       "    </tr>\n",
       "  </tbody>\n",
       "</table>\n",
       "</div>"
      ],
      "text/plain": [
       "                                               title  \\\n",
       "0  Multimodal Model-Agnostic Meta-Learning via Ta...   \n",
       "1  ViLBERT: Pretraining Task-Agnostic Visiolingui...   \n",
       "2  Stochastic Shared Embeddings: Data-driven Regu...   \n",
       "3  Unsupervised Scale-consistent Depth and Ego-mo...   \n",
       "4  Zero-shot Learning via Simultaneous Generating...   \n",
       "\n",
       "                                             authors  \\\n",
       "0  Risto Vuorio,Shao-Hua Sun,Hexiang Hu,Joseph J....   \n",
       "1       Jiasen Lu,Dhruv Batra,Devi Parikh,Stefan Lee   \n",
       "2  Liwei Wu,Shuqing Li,Cho-Jui Hsieh,James L. Sha...   \n",
       "3  Jiawang Bian,Zhichao Li,Naiyan Wang,Huangying ...   \n",
       "4                            Hyeonwoo Yu,Beomhee Lee   \n",
       "\n",
       "                                            doc_link  \\\n",
       "0  https://papers.nips.cc/paper/8296-multimodal-m...   \n",
       "1  https://papers.nips.cc/paper/8297-vilbert-pret...   \n",
       "2  https://papers.nips.cc/paper/8298-stochastic-s...   \n",
       "3  https://papers.nips.cc/paper/8299-unsupervised...   \n",
       "4  https://papers.nips.cc/paper/8300-zero-shot-le...   \n",
       "\n",
       "                                            abstract  \\\n",
       "0  Model-agnostic meta-learners aim to acquire me...   \n",
       "1  We present ViLBERT (short for Vision-and-Langu...   \n",
       "2  In deep neural nets, lower level embedding lay...   \n",
       "3  Recent work has shown that CNN-based depth and...   \n",
       "4  To overcome the absence of training data for u...   \n",
       "\n",
       "                                            pdf_link  \\\n",
       "0  https://papers.nips.cc/paper/8296-multimodal-m...   \n",
       "1  https://papers.nips.cc/paper/8297-vilbert-pret...   \n",
       "2  https://papers.nips.cc/paper/8298-stochastic-s...   \n",
       "3  https://papers.nips.cc/paper/8299-unsupervised...   \n",
       "4  https://papers.nips.cc/paper/8300-zero-shot-le...   \n",
       "\n",
       "                                   supplemental_link event_type  \n",
       "0  https://papers.nips.cc/paper/8296-multimodal-m...     poster  \n",
       "1  https://papers.nips.cc/paper/8297-vilbert-pret...     poster  \n",
       "2  https://papers.nips.cc/paper/8298-stochastic-s...     poster  \n",
       "3  https://papers.nips.cc/paper/8299-unsupervised...     poster  \n",
       "4  https://papers.nips.cc/paper/8300-zero-shot-le...     poster  "
      ]
     },
     "execution_count": 5,
     "metadata": {},
     "output_type": "execute_result"
    }
   ],
   "source": [
    "df.head()"
   ]
  },
  {
   "cell_type": "code",
   "execution_count": 6,
   "metadata": {},
   "outputs": [],
   "source": [
    "columnDefs = [\n",
    "    {'headerName': \"title\", 'field': \"title\", 'width': 300},\n",
    "    {'headerName': \"authors\", 'field': \"authors\", 'width': 100},\n",
    "    {'headerName': \"doc_link\", 'field': \"doc_link\", 'width': 100, 'hide':True},\n",
    "    {'headerName': \"event_type\", 'field': \"event_type\", 'width': 100, 'hide':True},\n",
    "    {'headerName': \"abstract\", 'field': \"abstract\", 'width': 300},\n",
    "];"
   ]
  },
  {
   "cell_type": "code",
   "execution_count": 7,
   "metadata": {},
   "outputs": [],
   "source": [
    "grid_options = {\n",
    "    'columnDefs': columnDefs,\n",
    "    'enableSorting': True,\n",
    "    'enableFilter': True,\n",
    "    'enableColResize': True,\n",
    "    'enableRangeSelection': True,\n",
    "    'defaultColDef': {'sortable': 'true', 'filter': 'true', 'resizable': 'true'},\n",
    "    'rowSelection': 'multiple',\n",
    "}"
   ]
  },
  {
   "cell_type": "code",
   "execution_count": 8,
   "metadata": {},
   "outputs": [],
   "source": [
    "color_grid = Grid(\n",
    "    width='100%',\n",
    "    height=300,\n",
    "    grid_data=df,\n",
    "    grid_options=grid_options,\n",
    "    quick_filter=True,\n",
    "    export_mode='auto',\n",
    "    export_to_df=True\n",
    ")"
   ]
  },
  {
   "cell_type": "code",
   "execution_count": 9,
   "metadata": {},
   "outputs": [],
   "source": [
    "out = widgets.Output(layout={'border': '1px solid black'})\n",
    "title = widgets.HTML(\n",
    "    value=\"\",\n",
    ")\n",
    "\n",
    "url = widgets.HTML(\n",
    "    value=\"\",\n",
    ")\n",
    "\n",
    "text = widgets.HTML(\n",
    "    value=\"\",\n",
    ")\n",
    "\n",
    "item_list = widgets.HTML(\n",
    "    value=\"\",\n",
    ")\n",
    "\n",
    "download = widgets.Button(\n",
    "    description='Download Selected',\n",
    "    disabled=False,\n",
    "    button_style='',\n",
    "    tooltip='Download Selected Papers',\n",
    "    icon='check',\n",
    "    layout=widgets.Layout(width='30%', height='50px')\n",
    ")\n",
    "\n",
    "list_button = widgets.Button(\n",
    "    description='List Selected',\n",
    "    disabled=False,\n",
    "    button_style='',\n",
    "    tooltip='List selected Items',\n",
    "    icon='',\n",
    "    layout=widgets.Layout(width='30%', height='50px')\n",
    ")\n",
    "\n",
    "\n",
    "download_path = widgets.Text(\n",
    "    value = download_path,\n",
    "    placeholder='Input download path',\n",
    "    description='Download to:',\n",
    "    disabled=False\n",
    ")"
   ]
  },
  {
   "cell_type": "code",
   "execution_count": 10,
   "metadata": {},
   "outputs": [],
   "source": [
    "def download_to(url, dest_path):\n",
    "    dest_file = os.path.join(dest_path, os.path.basename(url))\n",
    "    with urllib.request.urlopen(url) as in_resp, open(dest_file, 'wb') as out_file:\n",
    "        shutil.copyfileobj(in_resp, out_file)"
   ]
  },
  {
   "cell_type": "code",
   "execution_count": 11,
   "metadata": {},
   "outputs": [],
   "source": [
    "def on_download_clicked(b):\n",
    "    with out:\n",
    "        if not os.path.isdir(download_path.value):\n",
    "            os.makedirs(download_path.value)\n",
    "        \n",
    "        rows = color_grid.grid_data_out.get('rows')\n",
    "        selected_df = df.iloc[rows.index.get_level_values(0)]\n",
    "        print(f\"Downloading {len(rows)} files to {download_path.value}\")\n",
    "        for i, v in selected_df.iterrows():\n",
    "            if \"Not Found\" not in v.pdf_link: \n",
    "                print(f\"Downloading {v.title} pdf\")\n",
    "                download_to(v.pdf_link, download_path.value)\n",
    "            \n",
    "            if \"Not Found\" not in v.supplemental_link: \n",
    "                print(f\"Downloading supplemental\")\n",
    "                download_to(v.supplemental_link, download_path.value)\n",
    "\n",
    "download.on_click(on_download_clicked)"
   ]
  },
  {
   "cell_type": "code",
   "execution_count": 12,
   "metadata": {},
   "outputs": [],
   "source": [
    "def on_list_clicked(b):\n",
    "    with out:\n",
    "        rows = color_grid.grid_data_out.get('rows')\n",
    "        selected_df = df.iloc[rows.index.get_level_values(0)]\n",
    "        msgs = []\n",
    "        for i, row in selected_df.iterrows():\n",
    "            msgs.append(\n",
    "                    f\"<a href='{row.doc_link}'><h4>{row.title}</h4><h5>({row.event_type})<h5></a> \"\n",
    "                    f\"<h5>{row.authors}</h5>\"\n",
    "                    f\"<p><a href='{row.pdf_link}'>{row.pdf_link}</a></p>\"\n",
    "                    f\"<p><a href='{row.supplemental_link}'> {row.supplemental_link}</a></p>\"\n",
    "                    \"<hr><p>  </p><br /> \"\n",
    "            )\n",
    "        \n",
    "        item_list.value = \"\\n\".join(msgs)\n",
    "list_button.on_click(on_list_clicked)"
   ]
  },
  {
   "cell_type": "code",
   "execution_count": 13,
   "metadata": {},
   "outputs": [],
   "source": [
    "def on_change_data_out(change):\n",
    "    with out:\n",
    "        rows = change[\"new\"].get(\"rows\", None)\n",
    "        if rows is not None:\n",
    "            selected_df = df.iloc[rows.index.get_level_values(0)]\n",
    "            download.description=f\"Download Selected ({len(rows)})\"\n",
    "            list_button.description=f\"List Selected ({len(rows)})\"\n",
    "            text.value = f\"<p style='font-size: 130%;'>{selected_df.abstract.iat[0]}<p>\"\n",
    "            title.value =f\"<h2>{selected_df.title.iat[0]}<h2>\" \n",
    "            url.value=f\"<a href={selected_df.doc_link.iat[0]}>{selected_df.doc_link.iat[0]}<a>\"\n",
    "    lines = \"\\n\".join([i.get(\"text\", \"\") for i in out.outputs]).split(\"\\n\")\n",
    "    if len(lines)>10:\n",
    "        out.clear_output(wait=True)\n",
    "    \n",
    "color_grid.observe(on_change_data_out, names='grid_data_out')"
   ]
  },
  {
   "cell_type": "code",
   "execution_count": 14,
   "metadata": {
    "scrolled": false
   },
   "outputs": [
    {
     "data": {
      "application/vnd.jupyter.widget-view+json": {
       "model_id": "f214a5a657db4ce788461249987aaf7f",
       "version_major": 2,
       "version_minor": 0
      },
      "text/plain": [
       "VBox(children=(Grid(columns_fit='size_to_fit', compress_data=True, export_mode='auto', height='300px', menu={'…"
      ]
     },
     "metadata": {},
     "output_type": "display_data"
    }
   ],
   "source": [
    "buttons = widgets.HBox([download, download_path, list_button])\n",
    "items = [color_grid, title, url, text, buttons, out, item_list]\n",
    "widgets.VBox(items)"
   ]
  }
 ],
 "metadata": {
  "kernelspec": {
   "display_name": "Python 3",
   "language": "python",
   "name": "python3"
  },
  "language_info": {
   "codemirror_mode": {
    "name": "ipython",
    "version": 3
   },
   "file_extension": ".py",
   "mimetype": "text/x-python",
   "name": "python",
   "nbconvert_exporter": "python",
   "pygments_lexer": "ipython3",
   "version": "3.6.7"
  }
 },
 "nbformat": 4,
 "nbformat_minor": 2
}
